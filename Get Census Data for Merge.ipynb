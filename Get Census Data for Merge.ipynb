{
 "cells": [
  {
   "cell_type": "code",
   "execution_count": null,
   "id": "d398015a",
   "metadata": {},
   "outputs": [],
   "source": [
    "import requests\n",
    "import regex as re\n",
    "import numpy as np\n",
    "import pandas as pd\n"
   ]
  },
  {
   "cell_type": "code",
   "execution_count": null,
   "id": "162f852f",
   "metadata": {},
   "outputs": [],
   "source": [
    "import tokens"
   ]
  },
  {
   "cell_type": "code",
   "execution_count": null,
   "id": "560046a6",
   "metadata": {},
   "outputs": [],
   "source": [
    "import openpyxl"
   ]
  },
  {
   "cell_type": "code",
   "execution_count": null,
   "id": "b4d9abd9",
   "metadata": {},
   "outputs": [],
   "source": [
    "box_path = \"../../Library/CloudStorage/Box-Box/EEOC data/\""
   ]
  },
  {
   "cell_type": "markdown",
   "id": "68e97902",
   "metadata": {},
   "source": [
    "## Get 2010-2014 Demographics and Unemployment Rate"
   ]
  },
  {
   "cell_type": "markdown",
   "id": "15eab247",
   "metadata": {},
   "source": [
    "Note: We need separate queries for population demographics and white unemployment because population demographics are from Data Profiles and white unemployment is from Subject Tables\n",
    "\n",
    "You'll also need a Census API key to access these data, which you can save in a `tokens.py` file."
   ]
  },
  {
   "cell_type": "code",
   "execution_count": null,
   "id": "079fcd4a",
   "metadata": {},
   "outputs": [],
   "source": [
    "pop_vars = [\"DP05_0072PE\",\"DP05_0072E\",\n",
    "            \"DP05_0058E\"]\n",
    "variable_names = dict(zip(pop_vars,\n",
    "                         [\"prop_white_alone\",\"white_alone_pop\", \n",
    "                          \"total_population\"]))\n",
    "pop_vars = \",\".join(pop_vars)\n",
    "q = f\"https://api.census.gov/data/2014/acs/acs5/profile?get=GEO_ID,NAME,{pop_vars}&for=county:*&in=state:*&key={tokens.CENSUS_KEY}\"\n",
    "pop_r = requests.get(q)\n",
    "pop_resp = pop_r.json()\n",
    "headers = pop_resp.pop(0)\n",
    "pop_df = pd.DataFrame(pop_resp, columns=headers)\n",
    "pop_df = pop_df.rename(columns = {\"GEO_ID\":\"geo_id\",\n",
    "                                  \"NAME\": \"county_state\",\n",
    "                                  \"DP05_0072PE\": \"percent_white\",\n",
    "                                  \"DP05_0072E\": \"num_white\",\n",
    "                                  \"DP05_0058E\": \"total_pop\",\n",
    "                                  \"state\": \"state_fips\",\n",
    "                                  \"county\": \"county_fips\"})\n",
    "pop_df[\"fixed_fip\"] = pop_df[\"state_fips\"]+pop_df[\"county_fips\"]\n",
    "pop_df = pop_df.drop(columns = [\"state_fips\", \"county_fips\",\"county_state\"])\n",
    "\n",
    "# info on white unemployment\n",
    "#https://api.census.gov/data/2014/acs/acs5/subject/variables.html\n",
    "emp_vars = [\"S2301_C04_018E\",\"S2301_C04_019E\",\"S2301_C04_001E\"]\n",
    "emp_vars = \",\".join(emp_vars)\n",
    "#S2301_C04_018E = unemployment for white alone, not hispanic\n",
    "#S2301_C04_019E = unemployment for total population between 20-65\n",
    "#S2301_C04_001E = unemployment for total population over 16 y/o\n",
    "q = f\"https://api.census.gov/data/2014/acs/acs5/subject?get=GEO_ID,NAME,{emp_vars}&for=county:*&in=state:*&key={tokens.CENSUS_KEY}\"\n",
    "r = requests.get(q)\n",
    "resp = r.json()\n",
    "headers = resp.pop(0)\n",
    "emp_df = pd.DataFrame(resp, columns=headers)\n",
    "emp_df = emp_df.rename(columns = {\"GEO_ID\":\"geo_id\",\n",
    "                          \"NAME\": \"county_state\",\n",
    "                          \"S2301_C04_018E\": \"unemploy_white\",\n",
    "                          \"S2301_C04_019E\": \"unemploy_20_65\",\n",
    "                          \"S2301_C04_001E\": \"unemploy_all\",\n",
    "                          \"state\":\"state_fips\",\n",
    "                          \"county\": \"county_fips\"})\n",
    "#emp_df\n",
    "df = pd.merge(pop_df, emp_df, on = [\"geo_id\"])\n",
    "\n",
    "#additional info on working population\n",
    "\n",
    "#C23002H_017E = total white NH females in labor force 16-64\n",
    "#C23002H_004E = total white NH males in labor force 16-64\n",
    "#C23002H_008E = total white NH males in labor force unemployed 16-64\n",
    "#C23002H_021E = total white NH females in labor force unemployed 16-64\n",
    "#C23002H_024E = total white NH females in labor force > 65\n",
    "#C23002H_026E = total white NH females in labor force unemployed > 65\n",
    "#C23002H_011E = total white NH males in labor force > 65\n",
    "#C23002H_013E = total white NH males in labor force unemployed > 65\n",
    "new_emp_vars = [\"C23002H_017E\", \"C23002H_004E\",\n",
    "               \"C23002H_008E\", \"C23002H_021E\",\n",
    "               \"C23002H_024E\", \"C23002H_026E\",\n",
    "               \"C23002H_011E\", \"C23002H_013E\"]\n",
    "new_emp_vars = \",\".join(new_emp_vars)\n",
    "q = f\"https://api.census.gov/data/2014/acs/acs5?get=GEO_ID,NAME,{new_emp_vars}&for=county:*&in=state:*&key={tokens.CENSUS_KEY}\"\n",
    "r = requests.get(q)\n",
    "resp = r.json()\n",
    "headers = resp.pop(0)\n",
    "emp_1 = pd.DataFrame(resp, columns=headers)\n",
    "emp_1 = emp_1.rename(columns = {\"GEO_ID\":\"geo_id\",\n",
    "                          \"NAME\": \"county_state\",\n",
    "                          \"C23002H_017E\": \"white_females_inlfy\",\n",
    "                          \"C23002H_004E\": \"white_males_inlfy\",\n",
    "                          \"C23002H_008E\": \"white_males_inlf_unemy\",\n",
    "                            \"C23002H_021E\": \"white_females_inlf_unemy\",\n",
    "                                \"C23002H_013E\": \"white_males_inlf_unemo\",\n",
    "                                \"C23002H_011E\": \"white_males_inlfo\",\n",
    "                                \"C23002H_026E\": \"white_females_inlf_unemo\",\n",
    "                                \"C23002H_024E\": \"white_females_inlfo\",\n",
    "                          \"state\":\"state_fips\",\n",
    "                          \"county\": \"county_fips\"})\n",
    "\n",
    "\n",
    "emp_1[\"white_females_inlf\"] = emp_1.white_females_inlfo.astype(float) + emp_1.white_females_inlfy.astype(float)\n",
    "emp_1[\"white_females_unem_inlf\"] = emp_1.white_females_inlf_unemo.astype(float) + emp_1.white_females_inlf_unemy.astype(float)\n",
    "emp_1[\"white_males_inlf\"] = emp_1.white_males_inlfo.astype(float) + emp_1.white_males_inlfy.astype(float)\n",
    "emp_1[\"white_males_unem_inlf\"] = emp_1.white_males_inlf_unemo.astype(float) + emp_1.white_males_inlf_unemy.astype(float)\n",
    "emp_1[\"white_unem_inlf\"] = emp_1.white_females_unem_inlf.astype(float) + emp_1.white_males_unem_inlf.astype(float)\n",
    "emp_1[\"white_inlf\"] = emp_1.white_males_inlf.astype(float) + emp_1.white_females_inlf.astype(float)\n",
    "\n",
    "emp_1 = emp_1[[\"white_unem_inlf\", \"white_inlf\", \"geo_id\"]]\n",
    "df = pd.merge(df, emp_1, how = \"left\", on = \"geo_id\")\n"
   ]
  },
  {
   "cell_type": "code",
   "execution_count": null,
   "id": "e6e6111f",
   "metadata": {},
   "outputs": [],
   "source": [
    "df"
   ]
  },
  {
   "cell_type": "code",
   "execution_count": null,
   "id": "bccdf101",
   "metadata": {},
   "outputs": [],
   "source": [
    "df.to_csv(box_path+\"white_unemployment_pop.csv\", index=False, encoding=\"utf-8-sig\")"
   ]
  },
  {
   "cell_type": "markdown",
   "id": "ad7b507b",
   "metadata": {},
   "source": [
    "## Get 2006-2010 Demographics and Unemployment"
   ]
  },
  {
   "cell_type": "code",
   "execution_count": null,
   "id": "38ac20ed",
   "metadata": {},
   "outputs": [],
   "source": [
    "pop_vars = [\"DP05_0072PE\",\"DP05_0072E\",\n",
    "            \"DP05_0058E\"]\n",
    "variable_names = dict(zip(pop_vars,\n",
    "                         [\"prop_white_alone\",\"white_alone_pop\", \n",
    "                          \"total_population\"]))\n",
    "pop_vars = \",\".join(pop_vars)\n",
    "q = f\"https://api.census.gov/data/2010/acs/acs5/profile?get=GEO_ID,NAME,{pop_vars}&for=county:*&in=state:*&key={tokens.CENSUS_KEY}\"\n",
    "pop_r = requests.get(q)\n",
    "pop_resp = pop_r.json()\n",
    "headers = pop_resp.pop(0)\n",
    "pop_df_10 = pd.DataFrame(pop_resp, columns=headers)\n",
    "pop_df_10 = pop_df_10.rename(columns = {\"GEO_ID\":\"geo_id\",\n",
    "                                  \"NAME\": \"county_state\",\n",
    "                                  \"DP05_0072PE\": \"percent_white\",\n",
    "                                  \"DP05_0072E\": \"num_white\",\n",
    "                                  \"DP05_0058E\": \"total_pop\",\n",
    "                                  \"state\": \"state_fips\",\n",
    "                                  \"county\": \"county_fips\"})\n",
    "pop_df_10[\"fixed_fip\"] = pop_df_10[\"state_fips\"]+pop_df_10[\"county_fips\"]\n",
    "pop_df_10 = pop_df_10.drop(columns = [\"state_fips\", \"county_fips\",\"county_state\"])\n",
    "\n",
    "emp_vars = [\"S2301_C04_018E\",\"S2301_C04_019E\",\"S2301_C04_001E\"]\n",
    "emp_vars = \",\".join(emp_vars)\n",
    "#S2301_C04_018E = unemployment for white alone, not hispanic\n",
    "#S2301_C04_019E = unemployment for total population between 20-65\n",
    "#S2301_C04_001E = unemployment for total population over 16 y/o\n",
    "q = f\"https://api.census.gov/data/2010/acs/acs5/subject?get=GEO_ID,NAME,{emp_vars}&for=county:*&in=state:*&key={tokens.CENSUS_KEY}\"\n",
    "r = requests.get(q)\n",
    "resp = r.json()\n",
    "headers = resp.pop(0)\n",
    "emp_df_10 = pd.DataFrame(resp, columns=headers)\n",
    "emp_df_10 = emp_df_10.rename(columns = {\"GEO_ID\":\"geo_id\",\n",
    "                          \"NAME\": \"county_state\",\n",
    "                          \"S2301_C04_018E\": \"unemploy_white\",\n",
    "                          \"S2301_C04_019E\": \"unemploy_20_65\",\n",
    "                          \"S2301_C04_001E\": \"unemploy_all\",\n",
    "                          \"state\":\"state_fips\",\n",
    "                          \"county\": \"county_fips\"})\n",
    "#emp_df\n",
    "df_10 = pd.merge(pop_df_10, emp_df_10, on = [\"geo_id\"])"
   ]
  },
  {
   "cell_type": "code",
   "execution_count": null,
   "id": "f72f036a",
   "metadata": {},
   "outputs": [],
   "source": [
    "df_10.to_csv(box_path+\"white_unemployment_pop_2010.csv\", index=False, encoding=\"utf-8-sig\")"
   ]
  },
  {
   "cell_type": "code",
   "execution_count": null,
   "id": "5badcd8a",
   "metadata": {},
   "outputs": [],
   "source": []
  }
 ],
 "metadata": {
  "kernelspec": {
   "display_name": "Python 3",
   "language": "python",
   "name": "python3"
  },
  "language_info": {
   "codemirror_mode": {
    "name": "ipython",
    "version": 3
   },
   "file_extension": ".py",
   "mimetype": "text/x-python",
   "name": "python",
   "nbconvert_exporter": "python",
   "pygments_lexer": "ipython3",
   "version": "3.7.6"
  }
 },
 "nbformat": 4,
 "nbformat_minor": 5
}
